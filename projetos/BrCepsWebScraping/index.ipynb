{
  "cells": [
    {
      "cell_type": "raw",
      "metadata": {},
      "source": [
        "---\n",
        "title: CepScraping\n",
        "image: BrasilRegioesUF.jpg\n",
        "categories:\n",
        "  - Python\n",
        "  - WebScraping\n",
        "description: Extração de todos os ceps do Brasil utilizando python e o pacote BeautifulSoup4.\n",
        "execute:\n",
        "  eval: false\n",
        "date: 11/11/2023\n",
        "---"
      ],
      "id": "39a91cf1"
    },
    {
      "cell_type": "markdown",
      "metadata": {},
      "source": [
        "## Explicação do projeto\n",
        "\n",
        "O projeto consiste em extrair informações sobre CEPs de um [site](https://listacep.com/) que organiza os dados por divisões, com links para cada CEP disponível.\n",
        "\n",
        "A abordagem envolve navegar através das diferentes camadas de informação: primeiro acessando o estado, seguido pela cidade, bairro e finalmente, a rua. O processo requer a coleta e armazenamento de todos esses links para, posteriormente, acessar cada rua e extrair as informações específicas necessárias.\n",
        "\n",
        "Em resumo, a tarefa principal envolve a navegação hierárquica pelos links para coletar dados precisos sobre CEPs em diferentes localidades.\n",
        "\n",
        "## Biliotecas\n",
        "\n",
        "[**Beautiful Soup 4**](https://beautiful-soup-4.readthedocs.io/en/latest/), que é uma biblioteca Python usada para extrair dados de HTML. É comumente usada para fazer web scraping.\n",
        "\n",
        "[**Requests**](https://requests.readthedocs.io/en/latest/), que é uma biblioteca HTTP para Python. Ela permite que você envie solicitações HTTP, facilitando a interação com APIs da web e a obtenção de conteúdo de páginas da web.\n",
        "\n",
        "[**Pandas**](https://pandas.pydata.org/docs/), que é uma poderosa biblioteca para manipulação e análise de dados.\n",
        "\n",
        "[**concurrent.futures**](https://docs.python.org/3/library/concurrent.futures.html), essa biblioteca faz parte da biblioteca padrão do Python, será utilizado para execução paralela de tarefas.\n",
        "\n",
        "Para instalá-las, basta executar o seguinte código:\n"
      ],
      "id": "ac49883d"
    },
    {
      "cell_type": "code",
      "metadata": {},
      "source": [
        "!pip install beautifulsoup4\n",
        "!pip install requests\n",
        "!pip install pandas"
      ],
      "id": "7a143e03",
      "execution_count": null,
      "outputs": []
    },
    {
      "cell_type": "markdown",
      "metadata": {},
      "source": [
        "## Código\n",
        "\n",
        "### Importar bibliotecas\n"
      ],
      "id": "8f03d914"
    },
    {
      "cell_type": "code",
      "metadata": {},
      "source": [
        "import pandas as pd # Importar Pandas como \"pd\" é uma convenção comum na comunidade Python\n",
        "from bs4 import BeautifulSoup\n",
        "import requests\n",
        "from concurrent.futures import ThreadPoolExecutor "
      ],
      "id": "cc4a6161",
      "execution_count": null,
      "outputs": []
    },
    {
      "cell_type": "markdown",
      "metadata": {},
      "source": [
        "------------------------------------------------------------------------\n",
        "\n",
        "### Cabeçalho de consultas\n"
      ],
      "id": "4d81a257"
    },
    {
      "cell_type": "code",
      "metadata": {},
      "source": [
        "headers = {\n",
        "    \"User-Agent\": \"Mozilla/5.0 (Windows NT 10.0; Win64; x64) AppleWebKit/537.36 (KHTML, like Gecko) Chrome/58.0.3029.110 Safari/537.36\"\n",
        "}"
      ],
      "id": "ed934052",
      "execution_count": null,
      "outputs": []
    },
    {
      "cell_type": "markdown",
      "metadata": {},
      "source": [
        "*Ao incluir esse cabeçalho User-Agent em uma solicitação HTTP, você está informando ao servidor web sobre o tipo de navegador e sistema operacional que está sendo usado para acessar a página.*\n",
        "\n",
        "------------------------------------------------------------------------\n",
        "\n",
        "### Funções\n"
      ],
      "id": "dd445875"
    },
    {
      "cell_type": "code",
      "metadata": {},
      "source": [
        "def extract_links(url):\n",
        "    response = requests.get(url, headers=headers)\n",
        "    soup = BeautifulSoup(response.text, 'html.parser')\n",
        "    empty_div = soup.find('div', class_='list__empty')\n",
        "    if empty_div:\n",
        "        print(f\"Não há informações de links para {url}\")\n",
        "        return None\n",
        "    else:\n",
        "        primeira_ul = soup.find('ul', class_='list__list')\n",
        "        if primeira_ul:\n",
        "            links = [a['href'] for a in primeira_ul.find_all('a')]\n",
        "            return links\n",
        "        else:\n",
        "            return []"
      ],
      "id": "c5a91cf9",
      "execution_count": null,
      "outputs": []
    },
    {
      "cell_type": "markdown",
      "metadata": {},
      "source": [
        "*Essa função extrai links de uma página da web. Primeiro, faz uma solicitação HTTP para obter o HTML da URL usando* **requests** *com um cabeçalho definido. Em seguida, utiliza o* **BeautifulSoup** *para analisar o HTML. A função verifica se há uma div com a classe* \"list\\_\\_empty\"*, indicando uma lista vazia de localidades. Se encontrada, imprime uma mensagem e retorna None. Caso contrário, procura a primeira ul com a classe* \"list\\_\\_list\" *e extrai os links, retornando-os como uma lista. Se a lista não for encontrada, retorna uma lista vazia. Resumidamente, a função evita extrair dados de listas vazias e retorna os links encontrados, se existirem*\n"
      ],
      "id": "9a11c08e"
    },
    {
      "cell_type": "code",
      "metadata": {},
      "source": [
        "def extract_links2(url, max_attempts=5):\n",
        "    for attempt in range(max_attempts):\n",
        "        try:\n",
        "            response = requests.get(url, headers=headers, timeout=10)\n",
        "            response.raise_for_status()\n",
        "            soup = BeautifulSoup(response.text, 'html.parser')\n",
        "            empty_div = soup.find('div', class_='list__empty')\n",
        "\n",
        "            if empty_div:\n",
        "                print(f\"Não há informações de links para {url}\")\n",
        "                return []\n",
        "            else:\n",
        "                primeira_ul = soup.find('ul', class_='list__list')\n",
        "\n",
        "                if primeira_ul:\n",
        "                    links = [a['href'] for a in primeira_ul.find_all('a')]\n",
        "                    return links\n",
        "                else:\n",
        "                    return []\n",
        "        except Exception as e:\n",
        "            print(f\"Tentativa {attempt + 1} de {max_attempts} - Erro ao processar {url}: {e}\")\n",
        "            if attempt < max_attempts - 1:\n",
        "                print(\"Tentando novamente...\")\n",
        "            else:\n",
        "                print(\"Número máximo de tentativas atingido. Desistindo.\")\n",
        "                return None"
      ],
      "id": "9e3f7743",
      "execution_count": null,
      "outputs": []
    },
    {
      "cell_type": "markdown",
      "metadata": {},
      "source": [
        "*A função extract_links2 é uma versão aprimorada da extract_links, trazendo mais robustez e habilidade para lidar com falhas usando tentativas múltiplas e captura de exceções. Essas melhorias serão particularmente valiosas quando precisarmos otimizar e acelerar o processo de extração de dados.*\n"
      ],
      "id": "fc91617b"
    },
    {
      "cell_type": "code",
      "metadata": {},
      "source": [
        "def extract_rua_data(rua, max_attempts=5):\n",
        "    for attempt in range(max_attempts):\n",
        "        try:\n",
        "            response = requests.get(rua, headers=headers, timeout=10)\n",
        "            response.raise_for_status()\n",
        "            soup = BeautifulSoup(response.text, 'html.parser')\n",
        "            busca = soup.find('div', class_=\"top__more-infos\")\n",
        "            if busca:\n",
        "                texto = busca.text\n",
        "                dados = {}\n",
        "                for linha in texto.split(\"\\n\"):\n",
        "                    if linha.strip():\n",
        "                        chave, valor = linha.strip().split(\":\", 1)\n",
        "                        dados[chave] = valor\n",
        "                return dados\n",
        "            else:\n",
        "                return None\n",
        "        except Exception as e:\n",
        "            print(f\"Tentativa {attempt + 1} de {max_attempts} - Erro ao processar {rua}: {e}\")\n",
        "            if attempt < max_attempts - 1:\n",
        "                print(\"Tentando novamente...\")\n",
        "            else:\n",
        "                print(\"Número máximo de tentativas atingido. Desistindo.\")\n",
        "                return None"
      ],
      "id": "4d686803",
      "execution_count": null,
      "outputs": []
    },
    {
      "cell_type": "markdown",
      "metadata": {},
      "source": [
        "*Essa função serve para extrair informações do Logradouro, CEP, Bairro, Cidade e Estado do link final (Rua), lidando com erros de requisição e tentativas múltiplas para garantir uma extração mais robusta.*\n",
        "\n",
        "------------------------------------------------------------------------\n",
        "\n",
        "### Acessando e extraindo os links\n"
      ],
      "id": "70381cca"
    },
    {
      "cell_type": "code",
      "metadata": {},
      "source": [
        "url = \"https://listacep.com/\"\n",
        "\n",
        "estados_links = extract_links(url)\n",
        "\n",
        "cidades_links = []\n",
        "for estado_link in estados_links:\n",
        "    cidades_links.extend(extract_links(estado_link))\n",
        "\n",
        "cidades_links = list(set(cidades_links)) \n",
        "cidades_links = [cidade for cidade in cidades_links if cidade not in estados_links]"
      ],
      "id": "edce988d",
      "execution_count": null,
      "outputs": []
    },
    {
      "cell_type": "markdown",
      "metadata": {},
      "source": [
        "*A função extract_links é chamada para extrair os links relacionados aos estados do Brasil. O código percorre os links de estados previamente obtidos e, para cada estado, utiliza novamente a função extract_links para extrair os links relacionados às cidades. A lista cidades_links passa por um processo de limpeza evitando duplicatas indesejadas.*\n"
      ],
      "id": "4d3ba5c5"
    },
    {
      "cell_type": "code",
      "metadata": {},
      "source": [
        "with ThreadPoolExecutor(max_workers=40) as executor:\n",
        "    bairros = list(executor.map(extract_links2, cidades_links))\n",
        "\n",
        "bairros_links = [bairro for sublist in bairros for bairro in sublist]\n",
        "bairros_links = list(set(bairros_links))\n",
        "\n",
        "with ThreadPoolExecutor(max_workers=40) as executor:\n",
        "    ruas = list(executor.map(extract_links2, bairros_links))\n",
        "\n",
        "ruas_links = [rua for sublist in ruas for rua in sublist]\n",
        "ruas_links = list(set(ruas_links))"
      ],
      "id": "42e4d414",
      "execution_count": null,
      "outputs": []
    },
    {
      "cell_type": "markdown",
      "metadata": {},
      "source": [
        "*Esse código utiliza ThreadPoolExecutor juntamente com a função extract_links2 para coletar paralelamente links de bairros e ruas de forma eficiente, removendo duplicatas nos resultados finais.*\n",
        "\n",
        "------------------------------------------------------------------------\n",
        "\n",
        "### Coletando os CEPs\n"
      ],
      "id": "244ddd00"
    },
    {
      "cell_type": "code",
      "metadata": {},
      "source": [
        "rua_data_list = []\n",
        "\n",
        "with ThreadPoolExecutor(max_workers=40) as executor:\n",
        "    rua_data_list = list(executor.map(extract_rua_data, ruas_links))\n",
        "\n",
        "rua_data_list = [data for data in rua_data_list if data]\n",
        "\n",
        "df = pd.DataFrame(columns=[\"Logradouro\", \"CEP\", \"Bairro\", \"Cidade\", \"Estado\"])\n",
        "df = df.append(rua_data_list, ignore_index=True)\n",
        "\n",
        "grupos_estados = df.groupby('Estado')\n",
        "\n",
        "with pd.ExcelWriter('DadosCeps_por_estado.xlsx') as writer:\n",
        "    for estado, dados_estado in grupos_estados:\n",
        "        dados_estado.to_excel(writer, sheet_name=estado, index=False)"
      ],
      "id": "0c36c6a9",
      "execution_count": null,
      "outputs": []
    },
    {
      "cell_type": "markdown",
      "metadata": {},
      "source": [
        "*Esta parte do código coleta dados de diversas ruas também em paralelo, organizando esses dados em um DataFrame Pandas e, em seguida, exporta esses dados para um arquivo Excel com abas separadas para cada estado.*"
      ],
      "id": "59adbfe5"
    }
  ],
  "metadata": {
    "kernelspec": {
      "display_name": "Python 3",
      "language": "python",
      "name": "python3"
    }
  },
  "nbformat": 4,
  "nbformat_minor": 5
}